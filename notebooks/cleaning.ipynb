{
 "cells": [
  {
   "cell_type": "markdown",
   "id": "e5747836-f7de-4884-acca-507d65572c1c",
   "metadata": {},
   "source": [
    "# Import libraries and data"
   ]
  },
  {
   "cell_type": "code",
   "execution_count": 30,
   "id": "fdff4b97-648a-4f01-9135-297f5c057e1a",
   "metadata": {},
   "outputs": [],
   "source": [
    "import numpy as np\n",
    "import pandas as pd\n",
    "import matplotlib.pyplot as plt\n",
    "import os\n",
    "import seaborn as sns\n",
    "df = pd.read_csv('/Users/marina/Desktop/final_project/data/raw/okcupid_profiles .csv')\n",
    "#data/raw/okcupid_profiles .csv"
   ]
  },
  {
   "cell_type": "markdown",
   "id": "711e3c8b-7c74-4a3a-a027-36afef632fc2",
   "metadata": {
    "jp-MarkdownHeadingCollapsed": true
   },
   "source": [
    "# Explore data"
   ]
  },
  {
   "cell_type": "markdown",
   "id": "08d6e89b-b803-4024-9562-32ad07b99d0e",
   "metadata": {},
   "source": [
    "essay0- My self summary - my_summary\n",
    "essay1- What I’m doing with my life- doing_what\n",
    "essay2- I’m really good at - good_at\n",
    "essay3- The first thing people usually notice about me - noticed_for\n",
    "essay4- Favorite books, movies, show, music, and food - favourites\n",
    "essay5- The six things I could never do without - basic_six\n",
    "essay6- I spend a lot of time thinking about - think_about\n",
    "essay7- On a typical Friday night I am - typical_friday\n",
    "essay8- The most private thing I am willing to admit - most_private\n",
    "essay9- You should message me if... - message_if"
   ]
  },
  {
   "cell_type": "code",
   "execution_count": 3,
   "id": "bd724530-a26d-4444-9618-27c39803e02a",
   "metadata": {},
   "outputs": [
    {
     "name": "stdout",
     "output_type": "stream",
     "text": [
      "<class 'pandas.core.frame.DataFrame'>\n",
      "RangeIndex: 59946 entries, 0 to 59945\n",
      "Data columns (total 31 columns):\n",
      " #   Column       Non-Null Count  Dtype  \n",
      "---  ------       --------------  -----  \n",
      " 0   age          59946 non-null  int64  \n",
      " 1   status       59946 non-null  object \n",
      " 2   sex          59946 non-null  object \n",
      " 3   orientation  59946 non-null  object \n",
      " 4   body_type    54650 non-null  object \n",
      " 5   diet         35551 non-null  object \n",
      " 6   drinks       56961 non-null  object \n",
      " 7   drugs        45866 non-null  object \n",
      " 8   education    53318 non-null  object \n",
      " 9   ethnicity    54266 non-null  object \n",
      " 10  height       59943 non-null  float64\n",
      " 11  income       59946 non-null  int64  \n",
      " 12  job          51748 non-null  object \n",
      " 13  last_online  59946 non-null  object \n",
      " 14  location     59946 non-null  object \n",
      " 15  offspring    24385 non-null  object \n",
      " 16  pets         40025 non-null  object \n",
      " 17  religion     39720 non-null  object \n",
      " 18  sign         48890 non-null  object \n",
      " 19  smokes       54434 non-null  object \n",
      " 20  speaks       59896 non-null  object \n",
      " 21  essay0       54458 non-null  object \n",
      " 22  essay1       52374 non-null  object \n",
      " 23  essay2       50308 non-null  object \n",
      " 24  essay3       48470 non-null  object \n",
      " 25  essay4       49409 non-null  object \n",
      " 26  essay5       49096 non-null  object \n",
      " 27  essay6       46175 non-null  object \n",
      " 28  essay7       47495 non-null  object \n",
      " 29  essay8       40721 non-null  object \n",
      " 30  essay9       47343 non-null  object \n",
      "dtypes: float64(1), int64(2), object(28)\n",
      "memory usage: 14.2+ MB\n"
     ]
    }
   ],
   "source": [
    "df.info()\n",
    "#https://www.kaggle.com/datasets/andrewmvd/okcupid-profiles\n",
    "#see https://www.kaggle.com/andrewmvd/okcupid-profiles/discussion/183145 for details"
   ]
  },
  {
   "cell_type": "code",
   "execution_count": 31,
   "id": "29e3fa83-3944-492b-b6e5-6e91ab69e8b9",
   "metadata": {},
   "outputs": [
    {
     "data": {
      "text/plain": [
       "array([ 22,  35,  38,  23,  29,  32,  31,  24,  37,  28,  30,  39,  33,\n",
       "        26,  27,  20,  25,  40,  36,  21,  34,  43,  46,  41,  42,  45,\n",
       "        18,  55,  50,  59,  44,  48,  54,  51,  62,  52,  19,  58,  66,\n",
       "        53,  63,  47,  49,  61,  60,  57,  56,  65,  64,  68, 110,  69,\n",
       "        67, 109])"
      ]
     },
     "execution_count": 31,
     "metadata": {},
     "output_type": "execute_result"
    }
   ],
   "source": [
    "df['age'].unique()\n"
   ]
  },
  {
   "cell_type": "code",
   "execution_count": 5,
   "id": "59343507-4464-47bf-8d4f-7c755ebb1431",
   "metadata": {},
   "outputs": [
    {
     "data": {
      "text/plain": [
       "array(['english', 'english (fluently), spanish (poorly), french (poorly)',\n",
       "       'english, french, c++', ...,\n",
       "       'english (fluently), hindi (poorly), french (poorly), tamil (okay), spanish (poorly)',\n",
       "       'english (fluently), french (poorly), japanese (poorly), latin (poorly)',\n",
       "       'english (fluently), french, farsi'], dtype=object)"
      ]
     },
     "execution_count": 5,
     "metadata": {},
     "output_type": "execute_result"
    }
   ],
   "source": [
    "df['speaks'].unique()"
   ]
  },
  {
   "cell_type": "markdown",
   "id": "d616827d-2773-4151-a37b-1ad929a98676",
   "metadata": {},
   "source": [
    "# Clean column names"
   ]
  },
  {
   "cell_type": "code",
   "execution_count": 6,
   "id": "df426db9-6f6c-4a32-934e-a01c559a5a11",
   "metadata": {},
   "outputs": [],
   "source": [
    "\n",
    "df.columns = df.columns.str.lower().str.replace(' ', '')"
   ]
  },
  {
   "cell_type": "markdown",
   "id": "19ab06bc-72fc-44e3-9660-551e1850f034",
   "metadata": {
    "jp-MarkdownHeadingCollapsed": true
   },
   "source": [
    "# Column drinks, diet, drugs, education, ethnicity,height,income,job,offspring,pets,religion,sign,smokes,speaks an all essays"
   ]
  },
  {
   "cell_type": "code",
   "execution_count": 7,
   "id": "3599073f-c7e7-4ea6-bb09-087702afb7d7",
   "metadata": {},
   "outputs": [],
   "source": [
    "# List of columns to fill NaN values with 'rather not say'\n",
    "columns_to_fill = [\n",
    "    'drugs', 'education', 'ethnicity', 'height', 'income', 'job', \n",
    "    'offspring', 'pets', 'religion', 'sign', 'smokes', 'speaks', \n",
    "    'essay0', 'essay1', 'essay2', 'essay3', 'essay4', 'essay5', \n",
    "    'essay6', 'essay7', 'essay8', 'essay9','drinks','diet',\n",
    "    'body_type',\n",
    "]\n",
    "\n",
    "# Fill NaN values with 'rather not say'\n",
    "df[columns_to_fill] = df[columns_to_fill].fillna('rather not say')"
   ]
  },
  {
   "cell_type": "code",
   "execution_count": 8,
   "id": "61bc4dec-af57-4913-b9f4-8873180ef3ef",
   "metadata": {},
   "outputs": [
    {
     "name": "stdout",
     "output_type": "stream",
     "text": [
      "<class 'pandas.core.frame.DataFrame'>\n",
      "RangeIndex: 59946 entries, 0 to 59945\n",
      "Data columns (total 31 columns):\n",
      " #   Column       Non-Null Count  Dtype \n",
      "---  ------       --------------  ----- \n",
      " 0   age          59946 non-null  int64 \n",
      " 1   status       59946 non-null  object\n",
      " 2   sex          59946 non-null  object\n",
      " 3   orientation  59946 non-null  object\n",
      " 4   body_type    59946 non-null  object\n",
      " 5   diet         59946 non-null  object\n",
      " 6   drinks       59946 non-null  object\n",
      " 7   drugs        59946 non-null  object\n",
      " 8   education    59946 non-null  object\n",
      " 9   ethnicity    59946 non-null  object\n",
      " 10  height       59946 non-null  object\n",
      " 11  income       59946 non-null  int64 \n",
      " 12  job          59946 non-null  object\n",
      " 13  last_online  59946 non-null  object\n",
      " 14  location     59946 non-null  object\n",
      " 15  offspring    59946 non-null  object\n",
      " 16  pets         59946 non-null  object\n",
      " 17  religion     59946 non-null  object\n",
      " 18  sign         59946 non-null  object\n",
      " 19  smokes       59946 non-null  object\n",
      " 20  speaks       59946 non-null  object\n",
      " 21  essay0       59946 non-null  object\n",
      " 22  essay1       59946 non-null  object\n",
      " 23  essay2       59946 non-null  object\n",
      " 24  essay3       59946 non-null  object\n",
      " 25  essay4       59946 non-null  object\n",
      " 26  essay5       59946 non-null  object\n",
      " 27  essay6       59946 non-null  object\n",
      " 28  essay7       59946 non-null  object\n",
      " 29  essay8       59946 non-null  object\n",
      " 30  essay9       59946 non-null  object\n",
      "dtypes: int64(2), object(29)\n",
      "memory usage: 14.2+ MB\n"
     ]
    }
   ],
   "source": [
    "df.info()"
   ]
  },
  {
   "cell_type": "markdown",
   "id": "bf47c028-b27d-4c19-8b33-ec70d5f4afe7",
   "metadata": {
    "jp-MarkdownHeadingCollapsed": true
   },
   "source": [
    "# Clean column age 2 wrong values"
   ]
  },
  {
   "cell_type": "code",
   "execution_count": 34,
   "id": "e83148ed-f60d-4d09-8fb1-8af14bae016e",
   "metadata": {},
   "outputs": [
    {
     "name": "stdout",
     "output_type": "stream",
     "text": [
      "<class 'pandas.core.frame.DataFrame'>\n",
      "Index: 59944 entries, 0 to 59945\n",
      "Data columns (total 31 columns):\n",
      " #   Column       Non-Null Count  Dtype  \n",
      "---  ------       --------------  -----  \n",
      " 0   age          59944 non-null  int64  \n",
      " 1   status       59944 non-null  object \n",
      " 2   sex          59944 non-null  object \n",
      " 3   orientation  59944 non-null  object \n",
      " 4   body_type    54649 non-null  object \n",
      " 5   diet         35550 non-null  object \n",
      " 6   drinks       56961 non-null  object \n",
      " 7   drugs        45865 non-null  object \n",
      " 8   education    53317 non-null  object \n",
      " 9   ethnicity    54266 non-null  object \n",
      " 10  height       59941 non-null  float64\n",
      " 11  income       59944 non-null  int64  \n",
      " 12  job          51747 non-null  object \n",
      " 13  last_online  59944 non-null  object \n",
      " 14  location     59944 non-null  object \n",
      " 15  offspring    24384 non-null  object \n",
      " 16  pets         40025 non-null  object \n",
      " 17  religion     39719 non-null  object \n",
      " 18  sign         48889 non-null  object \n",
      " 19  smokes       54433 non-null  object \n",
      " 20  speaks       59894 non-null  object \n",
      " 21  essay0       54458 non-null  object \n",
      " 22  essay1       52374 non-null  object \n",
      " 23  essay2       50308 non-null  object \n",
      " 24  essay3       48469 non-null  object \n",
      " 25  essay4       49409 non-null  object \n",
      " 26  essay5       49096 non-null  object \n",
      " 27  essay6       46175 non-null  object \n",
      " 28  essay7       47495 non-null  object \n",
      " 29  essay8       40721 non-null  object \n",
      " 30  essay9       47343 non-null  object \n",
      "dtypes: float64(1), int64(2), object(28)\n",
      "memory usage: 14.6+ MB\n"
     ]
    }
   ],
   "source": [
    "# Delete rows where 'age' is greater than 100 outliers or mistakes\n",
    "df = df[df['age'] <= 100]\n",
    "\n",
    "df.info()"
   ]
  },
  {
   "cell_type": "markdown",
   "id": "8ea8fac0-08bf-4975-815f-196521603b7a",
   "metadata": {
    "jp-MarkdownHeadingCollapsed": true
   },
   "source": [
    "# Clean column location and create 2 new ones: city and state"
   ]
  },
  {
   "cell_type": "code",
   "execution_count": 35,
   "id": "279f09b5-d0e9-4729-82bd-4cc042a21eb2",
   "metadata": {},
   "outputs": [
    {
     "name": "stdout",
     "output_type": "stream",
     "text": [
      "Rows with no comma in 'location':\n",
      "Empty DataFrame\n",
      "Columns: [age, status, sex, orientation, body_type, diet, drinks, drugs, education, ethnicity, height, income, job, last_online, location, offspring, pets, religion, sign, smokes, speaks, essay0, essay1, essay2, essay3, essay4, essay5, essay6, essay7, essay8, essay9]\n",
      "Index: []\n",
      "\n",
      "[0 rows x 31 columns]\n"
     ]
    }
   ],
   "source": [
    "df1=df.copy()\n",
    "\n",
    "# Check which rows do not contain a comma\n",
    "no_comma_rows = df[~df['location'].str.contains(', ')]\n",
    "\n",
    "print(\"Rows with no comma in 'location':\")\n",
    "print(no_comma_rows)"
   ]
  },
  {
   "cell_type": "code",
   "execution_count": 36,
   "id": "4305ad90-321e-44b6-8b10-52a062d4bfbc",
   "metadata": {},
   "outputs": [
    {
     "name": "stdout",
     "output_type": "stream",
     "text": [
      "Rows with no comma in 'location':\n",
      "Empty DataFrame\n",
      "Columns: [age, status, sex, orientation, body_type, diet, drinks, drugs, education, ethnicity, height, income, job, last_online, location, offspring, pets, religion, sign, smokes, speaks, essay0, essay1, essay2, essay3, essay4, essay5, essay6, essay7, essay8, essay9]\n",
      "Index: []\n",
      "\n",
      "[0 rows x 31 columns]\n",
      "Updated DataFrame:\n",
      "       age     status sex orientation       body_type               diet  \\\n",
      "0       22     single   m    straight  a little extra  strictly anything   \n",
      "1       35     single   m    straight         average       mostly other   \n",
      "2       38  available   m    straight            thin           anything   \n",
      "3       23     single   m    straight            thin         vegetarian   \n",
      "4       29     single   m    straight        athletic                NaN   \n",
      "...    ...        ...  ..         ...             ...                ...   \n",
      "59941   59     single   f    straight             NaN                NaN   \n",
      "59942   24     single   m    straight             fit    mostly anything   \n",
      "59943   42     single   m    straight         average    mostly anything   \n",
      "59944   27     single   m    straight        athletic    mostly anything   \n",
      "59945   39     single   m         gay         average                NaN   \n",
      "\n",
      "           drinks      drugs                          education  \\\n",
      "0        socially      never      working on college/university   \n",
      "1           often  sometimes              working on space camp   \n",
      "2        socially        NaN     graduated from masters program   \n",
      "3        socially        NaN      working on college/university   \n",
      "4        socially      never  graduated from college/university   \n",
      "...           ...        ...                                ...   \n",
      "59941    socially      never  graduated from college/university   \n",
      "59942       often  sometimes      working on college/university   \n",
      "59943  not at all      never     graduated from masters program   \n",
      "59944    socially      often      working on college/university   \n",
      "59945    socially        NaN     graduated from masters program   \n",
      "\n",
      "                 ethnicity  ...  \\\n",
      "0             asian, white  ...   \n",
      "1                    white  ...   \n",
      "2                      NaN  ...   \n",
      "3                    white  ...   \n",
      "4      asian, black, other  ...   \n",
      "...                    ...  ...   \n",
      "59941                  NaN  ...   \n",
      "59942         white, other  ...   \n",
      "59943                asian  ...   \n",
      "59944         asian, black  ...   \n",
      "59945                white  ...   \n",
      "\n",
      "                                                  essay2  \\\n",
      "0      making people laugh. ranting about a good salt...   \n",
      "1      being silly. having ridiculous amonts of fun w...   \n",
      "2      improvising in different contexts. alternating...   \n",
      "3      playing synthesizers and organizing books acco...   \n",
      "4      creating imagery to look at: http://bagsbrown....   \n",
      "...                                                  ...   \n",
      "59941  i make an outstanding osso bucco. i am also ve...   \n",
      "59942  filmmaking, photography, graphic design, web d...   \n",
      "59943  - looking at things objectively - getting thin...   \n",
      "59944                                          listening   \n",
      "59945  i'm a great bullshitter. i don't know what it ...   \n",
      "\n",
      "                                                  essay3  \\\n",
      "0      the way i look. i am a six foot half asian, ha...   \n",
      "1                                                    NaN   \n",
      "2      my large jaw and large glasses are the physica...   \n",
      "3                      socially awkward but i do my best   \n",
      "4                i smile a lot and my inquisitive nature   \n",
      "...                                                  ...   \n",
      "59941  i am told that people notice my smile, eyes an...   \n",
      "59942                                dude, i don't know.   \n",
      "59943  i'm quiet until i get used to the environment ...   \n",
      "59944  it used to be the hair until i mowed it off bu...   \n",
      "59945  either that i am funny/sarcastic, or that i am...   \n",
      "\n",
      "                                                  essay4  \\\n",
      "0      books: absurdistan, the republic, of mice and ...   \n",
      "1      i am die hard christopher moore fan. i don't r...   \n",
      "2      okay this is where the cultural matrix gets so...   \n",
      "3      bataille, celine, beckett. . . lynch, jarmusch...   \n",
      "4      music: bands, rappers, musicians at the moment...   \n",
      "...                                                  ...   \n",
      "59941  i am an avid movie watcher and follow the broa...   \n",
      "59942  movies: hook (the greatest adventure ever!), g...   \n",
      "59943  last book: \"game change\". movies: bourne serie...   \n",
      "59944  where to begin musically: right now i listen t...   \n",
      "59945  i just read the help by kathryn stockett, sooo...   \n",
      "\n",
      "                                                  essay5  \\\n",
      "0                      food. water. cell phone. shelter.   \n",
      "1      delicious porkness in all of its glories. my b...   \n",
      "2      movement conversation creation contemplation t...   \n",
      "3                                                    NaN   \n",
      "4                                                    NaN   \n",
      "...                                                  ...   \n",
      "59941         my family, my dog, italy, words and music!   \n",
      "59942  iphone contact lenses headphones camera tv rem...   \n",
      "59943  - iphone - friends and family - internet - bay...   \n",
      "59944  music, family, friends, a basketball, hoop, so...   \n",
      "59945  1. family & friends & other humans - interacti...   \n",
      "\n",
      "                                                  essay6  \\\n",
      "0                            duality and humorous things   \n",
      "1                                                    NaN   \n",
      "2                                                    NaN   \n",
      "3                             cats and german philosophy   \n",
      "4                                                    NaN   \n",
      "...                                                  ...   \n",
      "59941                                   writing my book.   \n",
      "59942  i do most of my thinking on the bus to/from wo...   \n",
      "59943           aside from work, how to improve my home.   \n",
      "59944          what can i do to make someone chuckle....   \n",
      "59945  sex, myself, other people, how amazing everyth...   \n",
      "\n",
      "                                                  essay7  \\\n",
      "0      trying to find someone to hang out with. i am ...   \n",
      "1                                                    NaN   \n",
      "2      viewing. listening. dancing. talking. drinking...   \n",
      "3                                                    NaN   \n",
      "4                                                    NaN   \n",
      "...                                                  ...   \n",
      "59941  running with my dog, finishing up the work wee...   \n",
      "59942      bringin' home bacon, or drinking and shakin'!   \n",
      "59943    out enjoying friendly conversation over dinner.   \n",
      "59944  what i would do on any other day. everydays a ...   \n",
      "59945  out at happy hour with my friends, running int...   \n",
      "\n",
      "                                                  essay8  \\\n",
      "0      i am new to california and looking for someone...   \n",
      "1      i am very open and will share just about anyth...   \n",
      "2      when i was five years old, i was known as \"the...   \n",
      "3                                                    NaN   \n",
      "4                                                    NaN   \n",
      "...                                                  ...   \n",
      "59941  i have a dream to sing at the alconquin in nyc...   \n",
      "59942  when i was 18 i got a tattoo of waldo somewher...   \n",
      "59943               please let me think about this more.   \n",
      "59944  i like walking around in other people's house ...   \n",
      "59945  i wish i could cry like holly hunter in broadc...   \n",
      "\n",
      "                                                  essay9                 city  \\\n",
      "0      you want to be swept off your feet! you are ti...  south san francisco   \n",
      "1                                                    NaN              oakland   \n",
      "2      you are bright, open, intense, silly, ironic, ...        san francisco   \n",
      "3                                  you feel so inclined.             berkeley   \n",
      "4                                                    NaN        san francisco   \n",
      "...                                                  ...                  ...   \n",
      "59941  you are seeking a long term connection of shar...              oakland   \n",
      "59942     meh if you made it this far you might as well.        san francisco   \n",
      "59943                         we have similar interests.  south san francisco   \n",
      "59944              you are interested and interesting...        san francisco   \n",
      "59945  if you have a back-bone, an opinion, a sense o...        san francisco   \n",
      "\n",
      "            state  \n",
      "0      california  \n",
      "1      california  \n",
      "2      california  \n",
      "3      california  \n",
      "4      california  \n",
      "...           ...  \n",
      "59941  california  \n",
      "59942  california  \n",
      "59943  california  \n",
      "59944  california  \n",
      "59945  california  \n",
      "\n",
      "[59944 rows x 33 columns]\n"
     ]
    }
   ],
   "source": [
    "# Check which rows do not contain a comma\n",
    "no_comma_rows = df[~df['location'].str.contains(',')]\n",
    "print(\"Rows with no comma in 'location':\")\n",
    "print(no_comma_rows)\n",
    "\n",
    "# Define a function to split the 'location' column\n",
    "def split_location(location):\n",
    "    parts = location.split(', ')\n",
    "    if len(parts) == 2:\n",
    "        return parts[0], parts[1]\n",
    "    else:\n",
    "        return location, None\n",
    "\n",
    "# Apply the split function and create new columns\n",
    "df[['city', 'state']] = df['location'].apply(lambda x: pd.Series(split_location(x)))\n",
    "\n",
    "# Display the updated DataFrame\n",
    "print(\"Updated DataFrame:\")\n",
    "print(df)"
   ]
  },
  {
   "cell_type": "code",
   "execution_count": 12,
   "id": "0ec8ea13-e81d-4179-a5d7-4ccf2ccba1a4",
   "metadata": {},
   "outputs": [
    {
     "name": "stdout",
     "output_type": "stream",
     "text": [
      "<class 'pandas.core.frame.DataFrame'>\n",
      "Index: 59944 entries, 0 to 59945\n",
      "Data columns (total 33 columns):\n",
      " #   Column       Non-Null Count  Dtype \n",
      "---  ------       --------------  ----- \n",
      " 0   age          59944 non-null  int64 \n",
      " 1   status       59944 non-null  object\n",
      " 2   sex          59944 non-null  object\n",
      " 3   orientation  59944 non-null  object\n",
      " 4   body_type    59944 non-null  object\n",
      " 5   diet         59944 non-null  object\n",
      " 6   drinks       59944 non-null  object\n",
      " 7   drugs        59944 non-null  object\n",
      " 8   education    59944 non-null  object\n",
      " 9   ethnicity    59944 non-null  object\n",
      " 10  height       59944 non-null  object\n",
      " 11  income       59944 non-null  int64 \n",
      " 12  job          59944 non-null  object\n",
      " 13  last_online  59944 non-null  object\n",
      " 14  location     59944 non-null  object\n",
      " 15  offspring    59944 non-null  object\n",
      " 16  pets         59944 non-null  object\n",
      " 17  religion     59944 non-null  object\n",
      " 18  sign         59944 non-null  object\n",
      " 19  smokes       59944 non-null  object\n",
      " 20  speaks       59944 non-null  object\n",
      " 21  essay0       59944 non-null  object\n",
      " 22  essay1       59944 non-null  object\n",
      " 23  essay2       59944 non-null  object\n",
      " 24  essay3       59944 non-null  object\n",
      " 25  essay4       59944 non-null  object\n",
      " 26  essay5       59944 non-null  object\n",
      " 27  essay6       59944 non-null  object\n",
      " 28  essay7       59944 non-null  object\n",
      " 29  essay8       59944 non-null  object\n",
      " 30  essay9       59944 non-null  object\n",
      " 31  city         59944 non-null  object\n",
      " 32  state        59943 non-null  object\n",
      "dtypes: int64(2), object(31)\n",
      "memory usage: 15.5+ MB\n"
     ]
    }
   ],
   "source": [
    "df.info()"
   ]
  },
  {
   "cell_type": "code",
   "execution_count": 13,
   "id": "8469d8fd-ac8d-4eda-a527-772960001a49",
   "metadata": {},
   "outputs": [
    {
     "name": "stdout",
     "output_type": "stream",
     "text": [
      "                                  location  \\\n",
      "42438  vancouver, british columbia, canada   \n",
      "\n",
      "                                      city state  \n",
      "42438  vancouver, british columbia, canada  None  \n",
      "location    vancouver, british columbia, canada\n",
      "city        vancouver, british columbia, canada\n",
      "state                                 vancouver\n",
      "Name: 42438, dtype: object\n"
     ]
    }
   ],
   "source": [
    "# rows where 'state' is null\n",
    "rows_with_null_state = df[df['state'].isnull()][['location', 'city', 'state']]\n",
    "print(rows_with_null_state)\n",
    "\n",
    "# Fill NaN value \n",
    "df.loc[42438, 'state'] = 'vancouver'\n",
    "\n",
    "# change\n",
    "print(df.loc[42438, ['location', 'city', 'state']])"
   ]
  },
  {
   "cell_type": "code",
   "execution_count": 14,
   "id": "bb2422cb-c4a9-4fc4-b8de-61501cbafc48",
   "metadata": {},
   "outputs": [
    {
     "name": "stdout",
     "output_type": "stream",
     "text": [
      "<class 'pandas.core.frame.DataFrame'>\n",
      "Index: 59944 entries, 0 to 59945\n",
      "Data columns (total 31 columns):\n",
      " #   Column       Non-Null Count  Dtype \n",
      "---  ------       --------------  ----- \n",
      " 0   age          59944 non-null  int64 \n",
      " 1   status       59944 non-null  object\n",
      " 2   sex          59944 non-null  object\n",
      " 3   orientation  59944 non-null  object\n",
      " 4   body_type    59944 non-null  object\n",
      " 5   diet         59944 non-null  object\n",
      " 6   drinks       59944 non-null  object\n",
      " 7   drugs        59944 non-null  object\n",
      " 8   education    59944 non-null  object\n",
      " 9   ethnicity    59944 non-null  object\n",
      " 10  height       59944 non-null  object\n",
      " 11  income       59944 non-null  int64 \n",
      " 12  job          59944 non-null  object\n",
      " 13  last_online  59944 non-null  object\n",
      " 14  location     59944 non-null  object\n",
      " 15  offspring    59944 non-null  object\n",
      " 16  pets         59944 non-null  object\n",
      " 17  religion     59944 non-null  object\n",
      " 18  sign         59944 non-null  object\n",
      " 19  smokes       59944 non-null  object\n",
      " 20  speaks       59944 non-null  object\n",
      " 21  essay0       59944 non-null  object\n",
      " 22  essay1       59944 non-null  object\n",
      " 23  essay2       59944 non-null  object\n",
      " 24  essay3       59944 non-null  object\n",
      " 25  essay4       59944 non-null  object\n",
      " 26  essay5       59944 non-null  object\n",
      " 27  essay6       59944 non-null  object\n",
      " 28  essay7       59944 non-null  object\n",
      " 29  essay8       59944 non-null  object\n",
      " 30  essay9       59944 non-null  object\n",
      "dtypes: int64(2), object(29)\n",
      "memory usage: 16.7+ MB\n"
     ]
    }
   ],
   "source": [
    "df1.info()"
   ]
  },
  {
   "cell_type": "code",
   "execution_count": 15,
   "id": "eaba07fe-2396-434a-8133-1517058b9d7f",
   "metadata": {},
   "outputs": [
    {
     "data": {
      "text/plain": [
       "array([     -1,   80000,   20000,   40000,   30000,   50000,   60000,\n",
       "       1000000,  150000,  100000,  500000,   70000,  250000])"
      ]
     },
     "execution_count": 15,
     "metadata": {},
     "output_type": "execute_result"
    }
   ],
   "source": [
    "df['income'].unique()"
   ]
  },
  {
   "cell_type": "markdown",
   "id": "5f15aec5-87c5-4d63-89f5-285ec3616d6d",
   "metadata": {
    "jp-MarkdownHeadingCollapsed": true
   },
   "source": [
    "# Convert column last_online to date time format. Also new column date and time."
   ]
  },
  {
   "cell_type": "code",
   "execution_count": 16,
   "id": "2146ebb6-563c-4b75-b21f-5707da235d7a",
   "metadata": {},
   "outputs": [
    {
     "data": {
      "text/plain": [
       "array(['2012-06-28-20-30', '2012-06-29-21-41', '2012-06-27-09-10', ...,\n",
       "       '2012-06-02-08-16', '2012-02-17-20-44', '2012-06-14-16-51'],\n",
       "      dtype=object)"
      ]
     },
     "execution_count": 16,
     "metadata": {},
     "output_type": "execute_result"
    }
   ],
   "source": [
    "df1['last_online'].unique()"
   ]
  },
  {
   "cell_type": "code",
   "execution_count": 38,
   "id": "897a8c05-ab97-4796-ab4a-82ea4212ae98",
   "metadata": {},
   "outputs": [],
   "source": [
    "# Convert 'last_online' to datetime format\n",
    "df1['last_online'] = pd.to_datetime(df1['last_online'], format='%Y-%m-%d-%H-%M')\n",
    "\n",
    "# Create new columns for date and time\n",
    "df1['last_online_date'] = df1['last_online'].dt.date\n",
    "df1['last_online_time'] = df1['last_online'].dt.time\n",
    "\n",
    "#print(df1)"
   ]
  },
  {
   "cell_type": "code",
   "execution_count": 39,
   "id": "50569c98-d275-4310-8ea3-aa2dbe66b69a",
   "metadata": {},
   "outputs": [],
   "source": [
    "#df1.info()"
   ]
  },
  {
   "cell_type": "markdown",
   "id": "ac51133e-6913-4b72-96e6-390d850eebc0",
   "metadata": {},
   "source": [
    "# Clean salary column"
   ]
  },
  {
   "cell_type": "code",
   "execution_count": 40,
   "id": "0b4bd3f3-3bd5-42c9-b017-74d09b99f45b",
   "metadata": {},
   "outputs": [
    {
     "data": {
      "text/plain": [
       "array([     -1,   80000,   20000,   40000,   30000,   50000,   60000,\n",
       "       1000000,  150000,  100000,  500000,   70000,  250000])"
      ]
     },
     "execution_count": 40,
     "metadata": {},
     "output_type": "execute_result"
    }
   ],
   "source": [
    "df['income'].unique()"
   ]
  },
  {
   "cell_type": "code",
   "execution_count": 41,
   "id": "e160de0d-0b3b-4dd1-969f-85cbe63c16ee",
   "metadata": {},
   "outputs": [
    {
     "name": "stdout",
     "output_type": "stream",
     "text": [
      "Number of rows with 'income' less than zero: 48440\n"
     ]
    }
   ],
   "source": [
    "# Count rows where 'income' values are less than zero\n",
    "count_negative_income = (df['income'] < 0).sum()\n",
    "\n",
    "print(f\"Number of rows with 'income' less than zero: {count_negative_income}\")"
   ]
  },
  {
   "cell_type": "code",
   "execution_count": 21,
   "id": "bd7deb69-0a4c-499a-8429-2f1ee1cf3c71",
   "metadata": {},
   "outputs": [],
   "source": [
    "df1=df.copy()"
   ]
  },
  {
   "cell_type": "code",
   "execution_count": 42,
   "id": "1781c7e8-dd05-4b6f-90ae-02bb07f89048",
   "metadata": {},
   "outputs": [
    {
     "data": {
      "text/plain": [
       "array(['transportation', 'hospitality / travel', nan, 'student',\n",
       "       'artistic / musical / writer', 'computer / hardware / software',\n",
       "       'banking / financial / real estate', 'entertainment / media',\n",
       "       'sales / marketing / biz dev', 'other', 'medicine / health',\n",
       "       'science / tech / engineering', 'executive / management',\n",
       "       'education / academia', 'clerical / administrative',\n",
       "       'construction / craftsmanship', 'rather not say',\n",
       "       'political / government', 'law / legal services', 'unemployed',\n",
       "       'military', 'retired'], dtype=object)"
      ]
     },
     "execution_count": 42,
     "metadata": {},
     "output_type": "execute_result"
    }
   ],
   "source": [
    "df1['job'].unique()"
   ]
  },
  {
   "cell_type": "code",
   "execution_count": 44,
   "id": "2f8b6052-8cb7-49e2-bf44-0efe322caea5",
   "metadata": {},
   "outputs": [
    {
     "name": "stdout",
     "output_type": "stream",
     "text": [
      "Number of rows with income < 0 and job not 'Rather not say': 48093\n"
     ]
    }
   ],
   "source": [
    "# Filter rows where income is less than zero and job is not 'Rather not say'\n",
    "filtered_df = df1[(df1['income'] < 0) & (df1['job'] != 'rather not say')]\n",
    "\n",
    "count_filtered_rows = len(filtered_df)\n",
    "\n",
    "print(f\"Number of rows with income < 0 and job not 'Rather not say': {count_filtered_rows}\")\n"
   ]
  },
  {
   "cell_type": "code",
   "execution_count": 45,
   "id": "c62531ff-ff17-41f0-a254-c178f0b172e2",
   "metadata": {},
   "outputs": [],
   "source": [
    "# avrg income by job category \n",
    "average_income_by_job = df1[df1['income'] >= 0].groupby('job')['income'].mean().round()\n",
    "\n",
    "# replace negative income values with  income by job\n",
    "def replace_negative_income(row):\n",
    "    if row['income'] < 0:\n",
    "        job = row['job']\n",
    "        if job in average_income_by_job:\n",
    "            return int(average_income_by_job[job])  \n",
    "    return row['income']\n",
    "\n",
    "\n",
    "df1['income'] = df1.apply(replace_negative_income, axis=1)\n"
   ]
  },
  {
   "cell_type": "code",
   "execution_count": 46,
   "id": "9120c6bd-3b0a-4ed8-a140-5429846e53a8",
   "metadata": {},
   "outputs": [
    {
     "name": "stdout",
     "output_type": "stream",
     "text": [
      "<class 'pandas.core.frame.DataFrame'>\n",
      "Index: 59944 entries, 0 to 59945\n",
      "Data columns (total 33 columns):\n",
      " #   Column            Non-Null Count  Dtype         \n",
      "---  ------            --------------  -----         \n",
      " 0   age               59944 non-null  int64         \n",
      " 1   status            59944 non-null  object        \n",
      " 2   sex               59944 non-null  object        \n",
      " 3   orientation       59944 non-null  object        \n",
      " 4   body_type         54649 non-null  object        \n",
      " 5   diet              35550 non-null  object        \n",
      " 6   drinks            56961 non-null  object        \n",
      " 7   drugs             45865 non-null  object        \n",
      " 8   education         53317 non-null  object        \n",
      " 9   ethnicity         54266 non-null  object        \n",
      " 10  height            59941 non-null  float64       \n",
      " 11  income            59944 non-null  int64         \n",
      " 12  job               51747 non-null  object        \n",
      " 13  last_online       59944 non-null  datetime64[ns]\n",
      " 14  location          59944 non-null  object        \n",
      " 15  offspring         24384 non-null  object        \n",
      " 16  pets              40025 non-null  object        \n",
      " 17  religion          39719 non-null  object        \n",
      " 18  sign              48889 non-null  object        \n",
      " 19  smokes            54433 non-null  object        \n",
      " 20  speaks            59894 non-null  object        \n",
      " 21  essay0            54458 non-null  object        \n",
      " 22  essay1            52374 non-null  object        \n",
      " 23  essay2            50308 non-null  object        \n",
      " 24  essay3            48469 non-null  object        \n",
      " 25  essay4            49409 non-null  object        \n",
      " 26  essay5            49096 non-null  object        \n",
      " 27  essay6            46175 non-null  object        \n",
      " 28  essay7            47495 non-null  object        \n",
      " 29  essay8            40721 non-null  object        \n",
      " 30  essay9            47343 non-null  object        \n",
      " 31  last_online_date  59944 non-null  object        \n",
      " 32  last_online_time  59944 non-null  object        \n",
      "dtypes: datetime64[ns](1), float64(1), int64(2), object(29)\n",
      "memory usage: 15.5+ MB\n"
     ]
    }
   ],
   "source": [
    "df1.info()"
   ]
  },
  {
   "cell_type": "code",
   "execution_count": 26,
   "id": "fcb3aa00-ff8d-4146-9bd3-bcb6cb190fe2",
   "metadata": {},
   "outputs": [
    {
     "name": "stdout",
     "output_type": "stream",
     "text": [
      "Number of rows with 'income' less than zero: 0\n"
     ]
    }
   ],
   "source": [
    "# Count rows where 'income' values are less than zero\n",
    "count_negative_income = (df1['income'] < 0).sum()\n",
    "\n",
    "print(f\"Number of rows with 'income' less than zero: {count_negative_income}\")"
   ]
  },
  {
   "cell_type": "code",
   "execution_count": 27,
   "id": "6dea241b-cde5-4458-b4de-3b128772dae3",
   "metadata": {},
   "outputs": [
    {
     "data": {
      "text/plain": [
       "array([  85000,   80000,  185256,   20000,  129155,  108365,   74556,\n",
       "         40000,   99588,   30000,   50000,  105455,  122712,  108924,\n",
       "         93057,  138815,   85366,   50784,   81583,  101478,   60000,\n",
       "       1000000,  104051,  150000,  100000,  115899,   91681,  500000,\n",
       "         91386,   85204,   70000,  250000,  314571])"
      ]
     },
     "execution_count": 27,
     "metadata": {},
     "output_type": "execute_result"
    }
   ],
   "source": [
    "df1['income'].unique()"
   ]
  },
  {
   "cell_type": "code",
   "execution_count": 47,
   "id": "c02828ef-4e53-48cd-acb7-1487b6cea7e3",
   "metadata": {},
   "outputs": [],
   "source": [
    "# Convert 'income' column to integer\n",
    "df1['income'] = df1['income'].astype(int)"
   ]
  },
  {
   "cell_type": "markdown",
   "id": "6b6d4af0-fd39-4dac-80fa-78a40c8b3c47",
   "metadata": {},
   "source": [
    "# Export cleaned df"
   ]
  },
  {
   "cell_type": "code",
   "execution_count": 33,
   "id": "aa07de85-c1ec-426a-b690-4bf8cd109e51",
   "metadata": {},
   "outputs": [
    {
     "name": "stdout",
     "output_type": "stream",
     "text": [
      "DataFrame exported to /Users/marina/Desktop/final_project/data/cleaned/okcupid_cleaned.csv\n"
     ]
    }
   ],
   "source": [
    "okcupid_cleaned = df1\n",
    "\n",
    "# Specify the folder path\n",
    "folder_path = ('/Users/marina/Desktop/final_project/data/cleaned/')\n",
    "\n",
    "# Specify the file name\n",
    "file_name = 'okcupid_cleaned.csv'\n",
    "\n",
    " #Combine the folder path and file name\n",
    "file_path = os.path.join(folder_path, file_name)\n",
    "\n",
    "# Export the DataFrame to a CSV file\n",
    "okcupid_cleaned.to_csv(file_path, index=False)\n",
    "\n",
    "print(f'DataFrame exported to {file_path}')\n",
    "\n"
   ]
  },
  {
   "cell_type": "code",
   "execution_count": null,
   "id": "c8d33130-8b85-4d78-a715-5902430db481",
   "metadata": {},
   "outputs": [],
   "source": []
  }
 ],
 "metadata": {
  "kernelspec": {
   "display_name": "venvfinal",
   "language": "python",
   "name": "venvfinal"
  },
  "language_info": {
   "codemirror_mode": {
    "name": "ipython",
    "version": 3
   },
   "file_extension": ".py",
   "mimetype": "text/x-python",
   "name": "python",
   "nbconvert_exporter": "python",
   "pygments_lexer": "ipython3",
   "version": "3.11.7"
  }
 },
 "nbformat": 4,
 "nbformat_minor": 5
}
